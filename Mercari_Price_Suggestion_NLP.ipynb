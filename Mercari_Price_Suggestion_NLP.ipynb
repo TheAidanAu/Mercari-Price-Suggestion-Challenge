{
 "cells": [
  {
   "cell_type": "markdown",
   "id": "ac545c57-0227-49a8-ad75-e0f7989b8265",
   "metadata": {},
   "source": [
    "## Mercari Price Suggestion Challenge"
   ]
  },
  {
   "cell_type": "markdown",
   "id": "9e1cf0dc-ce02-4a97-8291-39621f23ded5",
   "metadata": {},
   "source": [
    "Mercari is an online marketplace similar to eBay or Amazon. People can list products to sell. \n",
    "\n",
    "Mercari would like us to develope an algorithm which automatically suggests a product's price based on the product's description and other information. \n",
    "\n",
    "A product's description and other information are mostly text data. "
   ]
  },
  {
   "cell_type": "markdown",
   "id": "d86e0821-023c-46e1-96a1-4645cc247433",
   "metadata": {},
   "source": [
    "## Loading Libraries"
   ]
  },
  {
   "cell_type": "code",
   "execution_count": 18,
   "id": "edc1a4ba-cc81-4b5d-8e5f-d1daf5d74030",
   "metadata": {},
   "outputs": [],
   "source": [
    "import time\n",
    "import numpy as np\n",
    "import pandas as pd\n",
    "import matplotlib.pyplot as plt\n",
    "import seaborn as sns\n",
    "from scipy.sparse import csr_matrix, hstack\n",
    "from sklearn.feature_extraction.text import CountVectorizer, TfidfVectorizer\n",
    "from sklearn.preprocessing import LabelBinarizer"
   ]
  },
  {
   "cell_type": "markdown",
   "id": "df16ab3b-58c8-46b2-8049-0a884032bb49",
   "metadata": {},
   "source": [
    "## EDA"
   ]
  },
  {
   "cell_type": "code",
   "execution_count": 25,
   "id": "c6f9ddc9-987c-46d1-8c19-418aa112c1db",
   "metadata": {},
   "outputs": [],
   "source": [
    "train = pd.read_csv('train.tsv', sep = '\\t')"
   ]
  },
  {
   "cell_type": "code",
   "execution_count": 26,
   "id": "7c5d86cd-d7b2-4408-9445-8a25449e8761",
   "metadata": {},
   "outputs": [],
   "source": [
    "#Sampling only 10% of the data because of time constraints \n",
    "reduced_X_train = train.sample(frac=0.1).reset_index(drop=True)"
   ]
  },
  {
   "cell_type": "code",
   "execution_count": 27,
   "id": "690743da-aaf9-4372-a13b-3437095b9026",
   "metadata": {},
   "outputs": [
    {
     "data": {
      "text/html": [
       "<div>\n",
       "<style scoped>\n",
       "    .dataframe tbody tr th:only-of-type {\n",
       "        vertical-align: middle;\n",
       "    }\n",
       "\n",
       "    .dataframe tbody tr th {\n",
       "        vertical-align: top;\n",
       "    }\n",
       "\n",
       "    .dataframe thead th {\n",
       "        text-align: right;\n",
       "    }\n",
       "</style>\n",
       "<table border=\"1\" class=\"dataframe\">\n",
       "  <thead>\n",
       "    <tr style=\"text-align: right;\">\n",
       "      <th></th>\n",
       "      <th>train_id</th>\n",
       "      <th>name</th>\n",
       "      <th>item_condition_id</th>\n",
       "      <th>category_name</th>\n",
       "      <th>brand_name</th>\n",
       "      <th>price</th>\n",
       "      <th>shipping</th>\n",
       "      <th>item_description</th>\n",
       "    </tr>\n",
       "  </thead>\n",
       "  <tbody>\n",
       "    <tr>\n",
       "      <th>0</th>\n",
       "      <td>831618</td>\n",
       "      <td>Viktor and Rolf Flowerbomb</td>\n",
       "      <td>1</td>\n",
       "      <td>Beauty/Fragrance/Women</td>\n",
       "      <td>Sephora</td>\n",
       "      <td>22.0</td>\n",
       "      <td>0</td>\n",
       "      <td>New, never been used Viktor and Rolf Flowerbom...</td>\n",
       "    </tr>\n",
       "    <tr>\n",
       "      <th>1</th>\n",
       "      <td>118899</td>\n",
       "      <td>MacBook Air 2015 hold</td>\n",
       "      <td>2</td>\n",
       "      <td>Electronics/Computers &amp; Tablets/Laptops &amp; Netb...</td>\n",
       "      <td>Apple</td>\n",
       "      <td>809.0</td>\n",
       "      <td>0</td>\n",
       "      <td>New open box. Comes with case and keyboard pro...</td>\n",
       "    </tr>\n",
       "    <tr>\n",
       "      <th>2</th>\n",
       "      <td>1107380</td>\n",
       "      <td>Santa figurine Lenox</td>\n",
       "      <td>3</td>\n",
       "      <td>Home/Seasonal Décor/Christmas</td>\n",
       "      <td>NaN</td>\n",
       "      <td>18.0</td>\n",
       "      <td>1</td>\n",
       "      <td>No description yet</td>\n",
       "    </tr>\n",
       "    <tr>\n",
       "      <th>3</th>\n",
       "      <td>746953</td>\n",
       "      <td>Michael kors cross body jet set</td>\n",
       "      <td>3</td>\n",
       "      <td>Women/Women's Handbags/Messenger &amp; Crossbody</td>\n",
       "      <td>Michael Kors</td>\n",
       "      <td>66.0</td>\n",
       "      <td>0</td>\n",
       "      <td>Michael kors cross body jet set bag</td>\n",
       "    </tr>\n",
       "    <tr>\n",
       "      <th>4</th>\n",
       "      <td>202860</td>\n",
       "      <td>❤ Bath &amp; Body works body mist</td>\n",
       "      <td>1</td>\n",
       "      <td>Beauty/Fragrance/Women</td>\n",
       "      <td>Bath &amp; Body Works</td>\n",
       "      <td>16.0</td>\n",
       "      <td>0</td>\n",
       "      <td>Bundle includes: Forever Red 90% full /orig. [...</td>\n",
       "    </tr>\n",
       "  </tbody>\n",
       "</table>\n",
       "</div>"
      ],
      "text/plain": [
       "   train_id                             name  item_condition_id  \\\n",
       "0    831618       Viktor and Rolf Flowerbomb                  1   \n",
       "1    118899            MacBook Air 2015 hold                  2   \n",
       "2   1107380             Santa figurine Lenox                  3   \n",
       "3    746953  Michael kors cross body jet set                  3   \n",
       "4    202860    ❤ Bath & Body works body mist                  1   \n",
       "\n",
       "                                       category_name         brand_name  \\\n",
       "0                             Beauty/Fragrance/Women            Sephora   \n",
       "1  Electronics/Computers & Tablets/Laptops & Netb...              Apple   \n",
       "2                      Home/Seasonal Décor/Christmas                NaN   \n",
       "3       Women/Women's Handbags/Messenger & Crossbody       Michael Kors   \n",
       "4                             Beauty/Fragrance/Women  Bath & Body Works   \n",
       "\n",
       "   price  shipping                                   item_description  \n",
       "0   22.0         0  New, never been used Viktor and Rolf Flowerbom...  \n",
       "1  809.0         0  New open box. Comes with case and keyboard pro...  \n",
       "2   18.0         1                                 No description yet  \n",
       "3   66.0         0                Michael kors cross body jet set bag  \n",
       "4   16.0         0  Bundle includes: Forever Red 90% full /orig. [...  "
      ]
     },
     "execution_count": 27,
     "metadata": {},
     "output_type": "execute_result"
    }
   ],
   "source": [
    "reduced_X_train.head()"
   ]
  },
  {
   "cell_type": "code",
   "execution_count": 28,
   "id": "9afd056d-b02d-4a9e-a55c-5f07b35a9cd7",
   "metadata": {},
   "outputs": [
    {
     "name": "stdout",
     "output_type": "stream",
     "text": [
      "<class 'pandas.core.frame.DataFrame'>\n",
      "RangeIndex: 148254 entries, 0 to 148253\n",
      "Data columns (total 8 columns):\n",
      " #   Column             Non-Null Count   Dtype  \n",
      "---  ------             --------------   -----  \n",
      " 0   train_id           148254 non-null  int64  \n",
      " 1   name               148254 non-null  object \n",
      " 2   item_condition_id  148254 non-null  int64  \n",
      " 3   category_name      147642 non-null  object \n",
      " 4   brand_name         84599 non-null   object \n",
      " 5   price              148254 non-null  float64\n",
      " 6   shipping           148254 non-null  int64  \n",
      " 7   item_description   148254 non-null  object \n",
      "dtypes: float64(1), int64(3), object(4)\n",
      "memory usage: 9.0+ MB\n"
     ]
    }
   ],
   "source": [
    "reduced_X_train.info()"
   ]
  },
  {
   "cell_type": "code",
   "execution_count": 29,
   "id": "f01f8441-f8b0-44db-9b5f-f05e0f057b21",
   "metadata": {},
   "outputs": [
    {
     "data": {
      "text/html": [
       "<div>\n",
       "<style scoped>\n",
       "    .dataframe tbody tr th:only-of-type {\n",
       "        vertical-align: middle;\n",
       "    }\n",
       "\n",
       "    .dataframe tbody tr th {\n",
       "        vertical-align: top;\n",
       "    }\n",
       "\n",
       "    .dataframe thead th {\n",
       "        text-align: right;\n",
       "    }\n",
       "</style>\n",
       "<table border=\"1\" class=\"dataframe\">\n",
       "  <thead>\n",
       "    <tr style=\"text-align: right;\">\n",
       "      <th></th>\n",
       "      <th>count</th>\n",
       "      <th>unique</th>\n",
       "      <th>top</th>\n",
       "      <th>freq</th>\n",
       "    </tr>\n",
       "  </thead>\n",
       "  <tbody>\n",
       "    <tr>\n",
       "      <th>train_id</th>\n",
       "      <td>148254</td>\n",
       "      <td>148254</td>\n",
       "      <td>524288</td>\n",
       "      <td>1</td>\n",
       "    </tr>\n",
       "    <tr>\n",
       "      <th>name</th>\n",
       "      <td>148254</td>\n",
       "      <td>137697</td>\n",
       "      <td>Bundle</td>\n",
       "      <td>253</td>\n",
       "    </tr>\n",
       "    <tr>\n",
       "      <th>item_condition_id</th>\n",
       "      <td>148254</td>\n",
       "      <td>5</td>\n",
       "      <td>1</td>\n",
       "      <td>64484</td>\n",
       "    </tr>\n",
       "    <tr>\n",
       "      <th>category_name</th>\n",
       "      <td>147642</td>\n",
       "      <td>1024</td>\n",
       "      <td>Women/Athletic Apparel/Pants, Tights, Leggings</td>\n",
       "      <td>5991</td>\n",
       "    </tr>\n",
       "    <tr>\n",
       "      <th>brand_name</th>\n",
       "      <td>84599</td>\n",
       "      <td>2332</td>\n",
       "      <td>PINK</td>\n",
       "      <td>5368</td>\n",
       "    </tr>\n",
       "    <tr>\n",
       "      <th>price</th>\n",
       "      <td>148254.0</td>\n",
       "      <td>469.0</td>\n",
       "      <td>10.0</td>\n",
       "      <td>10041.0</td>\n",
       "    </tr>\n",
       "    <tr>\n",
       "      <th>shipping</th>\n",
       "      <td>148254</td>\n",
       "      <td>2</td>\n",
       "      <td>0</td>\n",
       "      <td>81662</td>\n",
       "    </tr>\n",
       "    <tr>\n",
       "      <th>item_description</th>\n",
       "      <td>148254</td>\n",
       "      <td>133819</td>\n",
       "      <td>No description yet</td>\n",
       "      <td>8133</td>\n",
       "    </tr>\n",
       "  </tbody>\n",
       "</table>\n",
       "</div>"
      ],
      "text/plain": [
       "                      count  unique  \\\n",
       "train_id             148254  148254   \n",
       "name                 148254  137697   \n",
       "item_condition_id    148254       5   \n",
       "category_name        147642    1024   \n",
       "brand_name            84599    2332   \n",
       "price              148254.0   469.0   \n",
       "shipping             148254       2   \n",
       "item_description     148254  133819   \n",
       "\n",
       "                                                              top     freq  \n",
       "train_id                                                   524288        1  \n",
       "name                                                       Bundle      253  \n",
       "item_condition_id                                               1    64484  \n",
       "category_name      Women/Athletic Apparel/Pants, Tights, Leggings     5991  \n",
       "brand_name                                                   PINK     5368  \n",
       "price                                                        10.0  10041.0  \n",
       "shipping                                                        0    81662  \n",
       "item_description                               No description yet     8133  "
      ]
     },
     "execution_count": 29,
     "metadata": {},
     "output_type": "execute_result"
    }
   ],
   "source": [
    "reduced_X_train.astype('O').describe().T"
   ]
  },
  {
   "cell_type": "markdown",
   "id": "343c9ef9-d5fb-42b7-b145-e97321c1c7bb",
   "metadata": {},
   "source": [
    "## Examine the Target Value (Price)"
   ]
  },
  {
   "cell_type": "raw",
   "id": "c9afdb39-3a5c-4115-a484-2040c396cceb",
   "metadata": {},
   "source": [
    "reduced_X_train['price'].describe()"
   ]
  },
  {
   "cell_type": "code",
   "execution_count": 31,
   "id": "f288285e-fc83-4be7-9b4c-4524dd507326",
   "metadata": {},
   "outputs": [
    {
     "data": {
      "image/png": "[encoded data removed]",
      "text/plain": [
       "<Figure size 1080x432 with 2 Axes>"
      ]
     },
     "metadata": {
      "needs_background": "light"
     },
     "output_type": "display_data"
    }
   ],
   "source": [
    "# Plot Price Distribution\n",
    "plt.subplot(1, 2, 1)\n",
    "(reduced_X_train['price']).plot.hist(bins=50, figsize=(15, 6), edgecolor = 'white', range = [0, 250])\n",
    "plt.xlabel('price', fontsize=12)\n",
    "plt.title('Price Distribution', fontsize=12)\n",
    "\n",
    "#Plot Log Price Distribution\n",
    "plt.subplot(1, 2, 2)\n",
    "np.log(reduced_X_train['price']+1).plot.hist(bins=50, figsize=(15,6), edgecolor='white')\n",
    "plt.xlabel('log(price+1)', fontsize=12)\n",
    "plt.title('Log Price Distribution', fontsize=12)\n",
    "\n",
    "plt.show()"
   ]
  },
  {
   "cell_type": "markdown",
   "id": "f25c2477-6f70-4e01-99fe-70028ecdf98e",
   "metadata": {},
   "source": [
    "Log-Transform the right-skewed target so that it's more normally distributed, which will work better with modelling and Central Limit Theorem"
   ]
  },
  {
   "cell_type": "code",
   "execution_count": 32,
   "id": "3692b353-1287-44a7-a72c-db2dcc187349",
   "metadata": {
    "tags": []
   },
   "outputs": [],
   "source": [
    "reduced_y_train = np.log1p(reduced_X_train['price'])"
   ]
  },
  {
   "cell_type": "code",
   "execution_count": 36,
   "id": "d16734c3-2834-4aab-ae75-348212de6b57",
   "metadata": {},
   "outputs": [],
   "source": [
    "#dropping the target from the reduced_X_train dataframe\n",
    "reduced_X_train = reduced_X_train.drop('price', axis = 1)"
   ]
  },
  {
   "cell_type": "markdown",
   "id": "eb63b98f-3a4d-414b-9f88-181ce33fc73d",
   "metadata": {},
   "source": [
    "## Data Imputation/Cleaning"
   ]
  },
  {
   "cell_type": "code",
   "execution_count": 37,
   "id": "156c722a-a1fc-4ecc-bf2f-6d524749aae7",
   "metadata": {},
   "outputs": [],
   "source": [
    "reduced_X_train['category_name'] = reduced_X_train['category_name'].fillna('Other').astype(str)\n",
    "reduced_X_train['brand_name'] = reduced_X_train['brand_name'].fillna('missing').astype(str)\n",
    "reduced_X_train['shipping'] = reduced_X_train['shipping'].astype(str)\n",
    "reduced_X_train['item_condition_id'] = reduced_X_train['item_condition_id'].astype(str)\n",
    "reduced_X_train['item_description'] = reduced_X_train['item_description'].fillna('None')"
   ]
  },
  {
   "cell_type": "markdown",
   "id": "e2f19271-3ba0-4f74-a0bb-fb1611f8ea65",
   "metadata": {},
   "source": [
    "## Topic Modeling using LDA – Latent Dirichlet Allocation"
   ]
  },
  {
   "cell_type": "code",
   "execution_count": 39,
   "id": "066af428-f995-43d4-b33e-71f60db85dff",
   "metadata": {},
   "outputs": [
    {
     "name": "stdout",
     "output_type": "stream",
     "text": [
      "Topic 0: rm | shipping | inches | note | pink | stickers | available | necklace | free | listing\n",
      "Topic 1: free | shipping | bundle | price | rm | items | new | firm | ship | save\n",
      "Topic 2: size | small | black | blue | white | shirt | medium | nike | large | bra\n",
      "Topic 3: new | brand | box | tags | rm | price | used | authentic | size | original\n",
      "Topic 4: used | new | color | makeup | brush | matte | lip | palette | brand | authentic\n",
      "Topic 5: size | worn | condition | black | cute | small | new | pink | super | fit\n",
      "Topic 6: condition | used | good | great | bag | wear | leather | size | inside | excellent\n",
      "Topic 7: game | gold | ring | watch | games | steel | stainless | band | 10 | works\n",
      "Topic 8: oz | skin | body | new | used | oil | fl | bottle | bath | rm\n",
      "Topic 9: description | iphone | case | phone | plus | 6s | screen | charger | hair | ipad\n"
     ]
    }
   ],
   "source": [
    "from sklearn.decomposition import LatentDirichletAllocation\n",
    "\n",
    "# Initialize CountVectorizer\n",
    "cvectorizer = CountVectorizer(max_features=20000,\n",
    "                              stop_words='english', \n",
    "                              lowercase=True)\n",
    "\n",
    "# Fit it to our dataset\n",
    "cvz = cvectorizer.fit_transform(reduced_X_train['item_description'])\n",
    "\n",
    "# Initialize LDA Model with 10 Topics\n",
    "lda_model = LatentDirichletAllocation(n_components=10,\n",
    "                                      random_state=42)\n",
    "\n",
    "# Fit it to our CountVectorizer Transformation\n",
    "X_topics = lda_model.fit_transform(cvz)\n",
    "\n",
    "# Define variables\n",
    "n_top_words = 10\n",
    "topic_summaries = []\n",
    "\n",
    "# Get the topic words\n",
    "topic_word = lda_model.components_\n",
    "# Get the vocabulary from the text features\n",
    "vocab = cvectorizer.get_feature_names()\n",
    "\n",
    "# Display the Topic Models\n",
    "for i, topic_dist in enumerate(topic_word):\n",
    "    topic_words = np.array(vocab)[np.argsort(topic_dist)][:-(n_top_words+1):-1]\n",
    "    topic_summaries.append(' '.join(topic_words))\n",
    "    print('Topic {}: {}'.format(i, ' | '.join(topic_words)))"
   ]
  },
  {
   "cell_type": "markdown",
   "id": "803a2af7-d4eb-4329-82e5-f2e971ec030e",
   "metadata": {},
   "source": [
    "## Feature Pre-Processing"
   ]
  },
  {
   "cell_type": "code",
   "execution_count": 41,
   "id": "72fff34f-4fa9-494a-9182-eb5fb7325993",
   "metadata": {},
   "outputs": [],
   "source": [
    "from sklearn.pipeline import FeatureUnion\n",
    "\n",
    "default_preprocessor = CountVectorizer().build_preprocessor()\n",
    "\n",
    "def build_preprocessor(field):\n",
    "    field_idx = list(reduced_X_train.columns).index(field)\n",
    "    return lambda x: default_preprocessor(x[field_idx])\n",
    "\n",
    "vectorizer = FeatureUnion([\n",
    "    ('name', CountVectorizer(\n",
    "        ngram_range=(1, 2),\n",
    "        max_features=50000,\n",
    "        preprocessor=build_preprocessor('name'))),\n",
    "    ('category_name', CountVectorizer(\n",
    "        token_pattern='.+',\n",
    "        preprocessor=build_preprocessor('category_name'))),\n",
    "    ('brand_name', CountVectorizer(\n",
    "        token_pattern='.+',\n",
    "        preprocessor=build_preprocessor('brand_name'))),\n",
    "    ('shipping', CountVectorizer(\n",
    "        token_pattern='\\d+',\n",
    "        preprocessor=build_preprocessor('shipping'))),\n",
    "    ('item_condition_id', CountVectorizer(\n",
    "        token_pattern='\\d+',\n",
    "        preprocessor=build_preprocessor('item_condition_id'))),\n",
    "    ('item_description', TfidfVectorizer(\n",
    "        ngram_range=(1, 2),\n",
    "        max_features=55000,\n",
    "        stop_words='english',\n",
    "        preprocessor=build_preprocessor('item_description'))),\n",
    "])"
   ]
  },
  {
   "cell_type": "code",
   "execution_count": 43,
   "id": "dc804624-9b1a-4d87-a0e0-593f49c594d3",
   "metadata": {},
   "outputs": [
    {
     "data": {
      "text/plain": [
       "<148254x108365 sparse matrix of type '<class 'numpy.float64'>'\n",
       "\twith 4661206 stored elements in Compressed Sparse Row format>"
      ]
     },
     "execution_count": 43,
     "metadata": {},
     "output_type": "execute_result"
    }
   ],
   "source": [
    "# Create Transformed Train Set\n",
    "reduced_Xt_train = vectorizer.fit_transform(reduced_X_train.values)\n",
    "reduced_Xt_train"
   ]
  },
  {
   "cell_type": "markdown",
   "id": "e2d77b24-3bf0-4e8f-a01f-c6a412d6b0a5",
   "metadata": {},
   "source": [
    "## Modeling"
   ]
  },
  {
   "cell_type": "markdown",
   "id": "398deadd-891f-4990-8521-67e77cfd00dd",
   "metadata": {},
   "source": [
    "Ridge Regression\n",
    "\n",
    "LASSO Regression\n",
    "\n",
    "Light GBM"
   ]
  },
  {
   "cell_type": "markdown",
   "id": "e1b2f47e-994e-436a-957f-8c039ce094fe",
   "metadata": {},
   "source": [
    "## Define RMSLE Function"
   ]
  },
  {
   "cell_type": "code",
   "execution_count": 44,
   "id": "7eecb1df-cae6-43da-aef8-a01902eb760f",
   "metadata": {},
   "outputs": [],
   "source": [
    "def get_rmsle(y, pred): return np.sqrt(mean_squared_error(y, pred))"
   ]
  },
  {
   "cell_type": "markdown",
   "id": "14096ef9-9432-4073-a6a3-a797075a58cb",
   "metadata": {},
   "source": [
    "We're evaluating the models with the RMSLE metrics because the Target has been log-transformed"
   ]
  },
  {
   "cell_type": "markdown",
   "id": "3e66984a-b5ca-4a51-9c61-c5bb41646c0c",
   "metadata": {},
   "source": [
    "## Ridge Cross Validation"
   ]
  },
  {
   "cell_type": "code",
   "execution_count": 50,
   "id": "8a27dbff-5e98-4ee1-9171-cd988b52f40f",
   "metadata": {},
   "outputs": [
    {
     "name": "stdout",
     "output_type": "stream",
     "text": [
      "Ridge Training RMSLE: 0.29547\n",
      "Ridge Validation RMSLE: 0.52397\n",
      "Ridge Training RMSLE: 0.29511\n",
      "Ridge Validation RMSLE: 0.52510\n",
      "Ridge Training RMSLE: 0.29672\n",
      "Ridge Validation RMSLE: 0.52079\n"
     ]
    }
   ],
   "source": [
    "from sklearn.model_selection import KFold, cross_val_score, train_test_split\n",
    "from sklearn.linear_model import Ridge\n",
    "from sklearn.metrics import mean_squared_error\n",
    "\n",
    "# Create 3-Fold CV\n",
    "cv = KFold(n_splits=3, shuffle=True, random_state=42)\n",
    "for train_ids, valid_ids in cv.split(reduced_Xt_train):\n",
    "    # Define Ridge Model\n",
    "    model_ridge = Ridge(fit_intercept=True, random_state=42)\n",
    "    \n",
    "    # Fit Ridge Model\n",
    "    model_ridge.fit(reduced_Xt_train[train_ids], reduced_y_train[train_ids])\n",
    "    \n",
    "    # Predict & Evaluate Training Score\n",
    "    y_pred_train = model_ridge.predict(reduced_Xt_train[train_ids])\n",
    "    rmsle_train = get_rmsle(y_pred_train, reduced_y_train[train_ids])\n",
    "    \n",
    "    # Predict & Evaluate Validation Score\n",
    "    y_pred_valid = model_ridge.predict(reduced_Xt_train[valid_ids])\n",
    "    rmsle_valid = get_rmsle(y_pred_valid, reduced_y_train[valid_ids])\n",
    "    \n",
    "    print(f'Ridge Training RMSLE: {rmsle_train:.5f}')\n",
    "    print(f'Ridge Validation RMSLE: {rmsle_valid:.5f}')"
   ]
  },
  {
   "cell_type": "markdown",
   "id": "f663bcdd-84fb-48c7-b4d2-29ff3e4b8caf",
   "metadata": {},
   "source": [
    "## LASSO Cross Validation"
   ]
  },
  {
   "cell_type": "code",
   "execution_count": 52,
   "id": "6ff5b9b1-e256-47e0-a329-d53c53ba2b64",
   "metadata": {},
   "outputs": [
    {
     "name": "stdout",
     "output_type": "stream",
     "text": [
      "LASSO Training RMSLE: 0.75295\n",
      "LASSO Validation RMSLE: 0.74422\n",
      "LASSO Training RMSLE: 0.74769\n",
      "LASSO Validation RMSLE: 0.75476\n",
      "LASSO Training RMSLE: 0.74951\n",
      "LASSO Validation RMSLE: 0.75114\n"
     ]
    }
   ],
   "source": [
    "from sklearn.linear_model import Lasso\n",
    "# Create 3-Fold CV\n",
    "cv = KFold(n_splits=3, shuffle=True, random_state=42)\n",
    "for train_ids, valid_ids in cv.split(reduced_Xt_train):\n",
    "    # Define LGBM Model\n",
    "    model_LASSO = Lasso(fit_intercept=True, random_state=42)\n",
    "    \n",
    "    # Fit LGBM Model\n",
    "    model_LASSO.fit(reduced_Xt_train[train_ids], reduced_y_train[train_ids])\n",
    "    \n",
    "    # Predict & Evaluate Training Score\n",
    "    y_pred_train = model_LASSO.predict(reduced_Xt_train[train_ids])\n",
    "    rmsle_train = get_rmsle(y_pred_train, reduced_y_train[train_ids])\n",
    "    \n",
    "    # Predict & Evaluate Validation Score\n",
    "    y_pred_valid = model_LASSO.predict(reduced_Xt_train[valid_ids])\n",
    "    rmsle_valid = get_rmsle(y_pred_valid, reduced_y_train[valid_ids])\n",
    "    \n",
    "    print(f'LASSO Training RMSLE: {rmsle_train:.5f}')\n",
    "    print(f'LASSO Validation RMSLE: {rmsle_valid:.5f}')"
   ]
  },
  {
   "cell_type": "markdown",
   "id": "7bc43c5c-77b4-429a-a0f0-8985fb652550",
   "metadata": {},
   "source": [
    "## LGBM Cross Validation"
   ]
  },
  {
   "cell_type": "code",
   "execution_count": 53,
   "id": "664c928f-7151-4e61-b932-a8b9cf3897c0",
   "metadata": {},
   "outputs": [
    {
     "name": "stdout",
     "output_type": "stream",
     "text": [
      "LGBM Training RMSLE: 0.46369\n",
      "LGBM Validation RMSLE: 0.51185\n",
      "LGBM Training RMSLE: 0.46360\n",
      "LGBM Validation RMSLE: 0.51344\n",
      "LGBM Training RMSLE: 0.46593\n",
      "LGBM Validation RMSLE: 0.51184\n"
     ]
    }
   ],
   "source": [
    "import lightgbm as lgb\n",
    "\n",
    "# Create 3-Fold CV\n",
    "cv = KFold(n_splits=3, shuffle=True, random_state=42)\n",
    "for train_ids, valid_ids in cv.split(reduced_Xt_train):\n",
    "    # Define LGBM Model\n",
    "    model_lgb = lgb.LGBMRegressor(num_leaves=31, n_jobs=-1, learning_rate=0.1, n_estimators=500, random_state=42)\n",
    "    \n",
    "    # Fit LGBM Model\n",
    "    model_lgb.fit(reduced_Xt_train[train_ids], reduced_y_train[train_ids])\n",
    "    \n",
    "    # Predict & Evaluate Training Score\n",
    "    y_pred_train = model_lgb.predict(reduced_Xt_train[train_ids])\n",
    "    rmsle_train = get_rmsle(y_pred_train, reduced_y_train[train_ids])\n",
    "    \n",
    "    # Predict & Evaluate Validation Score\n",
    "    y_pred_valid = model_lgb.predict(reduced_Xt_train[valid_ids])\n",
    "    rmsle_valid = get_rmsle(y_pred_valid, reduced_y_train[valid_ids])\n",
    "    \n",
    "    print(f'LGBM Training RMSLE: {rmsle_train:.5f}')\n",
    "    print(f'LGBM Validation RMSLE: {rmsle_valid:.5f}')"
   ]
  },
  {
   "cell_type": "markdown",
   "id": "409d03b8-462f-4fe7-a3cd-49b857e74ad7",
   "metadata": {},
   "source": [
    "## Ridge performs the best with the smallest RMSLE"
   ]
  }
 ],
 "metadata": {
  "kernelspec": {
   "display_name": "Python 3",
   "language": "python",
   "name": "python3"
  },
  "language_info": {
   "codemirror_mode": {
    "name": "ipython",
    "version": 3
   },
   "file_extension": ".py",
   "mimetype": "text/x-python",
   "name": "python",
   "nbconvert_exporter": "python",
   "pygments_lexer": "ipython3",
   "version": "3.8.8"
  }
 },
 "nbformat": 4,
 "nbformat_minor": 5
}
